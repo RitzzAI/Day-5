{
 "cells": [
  {
   "cell_type": "markdown",
   "id": "dfc1c035",
   "metadata": {},
   "source": [
    "# Day 5: Comprehensions + Error Handling\n",
    "---\n",
    "In this notebook, you'll learn about:\n",
    "- List, Set, and Dict Comprehensions\n",
    "- Error and Exception Handling in Python\n"
   ]
  },
  {
   "cell_type": "markdown",
   "id": "a725e281",
   "metadata": {},
   "source": [
    "## 🔁 List, Set & Dict Comprehensions"
   ]
  },
  {
   "cell_type": "code",
   "execution_count": 1,
   "id": "ebccabd2",
   "metadata": {},
   "outputs": [
    {
     "name": "stdout",
     "output_type": "stream",
     "text": [
      "Squares: [0, 1, 4, 9, 16, 25, 36, 49, 64, 81]\n"
     ]
    }
   ],
   "source": [
    "# List Comprehension\n",
    "squares = [x**2 for x in range(10)]\n",
    "print(\"Squares:\", squares)"
   ]
  },
  {
   "cell_type": "code",
   "execution_count": 19,
   "id": "09e27abe-40a6-4ec6-9f93-4243c2572252",
   "metadata": {},
   "outputs": [
    {
     "name": "stdout",
     "output_type": "stream",
     "text": [
      "Ritesh: [0, 2, 4, 6, 8, 10, 12, 14, 16, 18, 20, 22, 24, 26, 28, 30, 32, 34, 36, 38, 40, 42, 44, 46, 48, 50, 52, 54, 56, 58, 60, 62, 64, 66, 68, 70, 72, 74, 76, 78, 80, 82, 84, 86, 88, 90, 92, 94, 96, 98]\n"
     ]
    }
   ],
   "source": [
    "# List Comprehension practices \n",
    "Ritesh = [x*2 for x in range(50)]\n",
    "print(\"Ritesh:\", Ritesh)"
   ]
  },
  {
   "cell_type": "code",
   "execution_count": 32,
   "id": "f9030d7b-ff5e-471d-83cc-286ab5d06dc5",
   "metadata": {},
   "outputs": [
    {
     "name": "stdout",
     "output_type": "stream",
     "text": [
      "Dream: [8, 9, 10, 11, 12, 13, 14, 15, 16, 17, 18, 19, 20, 21, 22, 23, 24, 25, 26, 27, 28, 29, 30, 31]\n"
     ]
    }
   ],
   "source": [
    "# List Comprehension practices\n",
    "Dream = [x+8 for x in range(24)]\n",
    "print(\"Dream:\", Dream)"
   ]
  },
  {
   "cell_type": "code",
   "execution_count": 41,
   "id": "da2ba8a7-bdb4-40a6-858a-962b6747f3ab",
   "metadata": {},
   "outputs": [
    {
     "name": "stdout",
     "output_type": "stream",
     "text": [
      "subtract: [0, 0, 0, 0, 0, 0, 0, 0, 0, 0, 0, 0, 0, 0, 0, 0, 0, 0, 0, 0, 0, 0, 0, 0, 0, 0, 0, 0, 0, 0, 0, 0, 0, 0, 0]\n"
     ]
    }
   ],
   "source": [
    "# List Comprehension practices\n",
    "subtract = [ x-x for x in range(35)]\n",
    "print(\"subtract:\", subtract)\n"
   ]
  },
  {
   "cell_type": "code",
   "execution_count": 20,
   "id": "b40c3a44-f78a-49a6-a28a-82ba0c180990",
   "metadata": {},
   "outputs": [
    {
     "name": "stdout",
     "output_type": "stream",
     "text": [
      "Even Numbers: {0, 35, 5, 40, 10, 45, 15, 20, 25, 30}\n"
     ]
    }
   ],
   "source": [
    "# Set Comprehension\n",
    "unique_evens = {x for x in range(50) if x % 5 == 0}\n",
    "print(\"Even Numbers:\", unique_evens)"
   ]
  },
  {
   "cell_type": "code",
   "execution_count": 21,
   "id": "10e9a9b2-ab7e-494e-8d6d-21fbe33cee54",
   "metadata": {},
   "outputs": [
    {
     "name": "stdout",
     "output_type": "stream",
     "text": [
      "Squares Dictionary: {0: 0, 1: 1, 2: 4, 3: 9, 4: 16, 5: 25, 6: 36, 7: 49, 8: 64, 9: 81, 10: 100, 11: 121, 12: 144, 13: 169, 14: 196, 15: 225, 16: 256, 17: 289, 18: 324, 19: 361, 20: 400, 21: 441, 22: 484, 23: 529, 24: 576, 25: 625, 26: 676, 27: 729, 28: 784, 29: 841, 30: 900, 31: 961, 32: 1024, 33: 1089, 34: 1156, 35: 1225, 36: 1296, 37: 1369, 38: 1444, 39: 1521, 40: 1600, 41: 1681, 42: 1764, 43: 1849, 44: 1936, 45: 2025, 46: 2116, 47: 2209, 48: 2304, 49: 2401}\n"
     ]
    }
   ],
   "source": [
    "# Dictionary Comprehension\n",
    "squares_dict = {x: x**2 for x in range(50)}\n",
    "print(\"Squares Dictionary:\", squares_dict)"
   ]
  },
  {
   "cell_type": "markdown",
   "id": "a0712432",
   "metadata": {},
   "source": [
    "## ❌ Error & Exception Handling"
   ]
  },
  {
   "cell_type": "code",
   "execution_count": 6,
   "id": "63b621a2",
   "metadata": {},
   "outputs": [
    {
     "name": "stdin",
     "output_type": "stream",
     "text": [
      "Enter a number: 20 1\n"
     ]
    },
    {
     "name": "stdout",
     "output_type": "stream",
     "text": [
      "Result: 1.0\n",
      "Done with exception handling.\n"
     ]
    }
   ],
   "source": [
    "try:\n",
    "    number = int(input(\"Enter a number: 20\"))\n",
    "    result = 10 / 10\n",
    "    print(\"Result:\", result)\n",
    "except ZeroDivisionError:\n",
    "    print(\"Error: You can't divide by zero!\")\n",
    "except ValueError:\n",
    "    print(\"Error: Invalid input. Please enter a number.\")\n",
    "finally:\n",
    "    print(\"Done with exception handling.\")"
   ]
  },
  {
   "cell_type": "markdown",
   "id": "cc09108a",
   "metadata": {},
   "source": [
    "## ✅ Task for Practice:\n",
    "1. Create a list of even numbers from 0 to 20 using list comprehension.\n",
    "2. Build a dictionary from a list of characters that maps each char to its ASCII value.\n",
    "3. Handle exceptions for a file read operation (file might not exist)."
   ]
  },
  {
   "cell_type": "code",
   "execution_count": 42,
   "id": "dddeeee1-126c-4a7b-827d-365bb56cc2e9",
   "metadata": {},
   "outputs": [
    {
     "name": "stdout",
     "output_type": "stream",
     "text": [
      "[0, 2, 4, 6, 8, 10, 12, 14, 16, 18, 20]\n"
     ]
    }
   ],
   "source": [
    "#1 Create a list of even numbers from 0 to 20 using list comprehension.\n",
    "even_numbers = [x for x in range(0, 21) if x % 2 == 0]\n",
    "print(even_numbers)"
   ]
  },
  {
   "cell_type": "code",
   "execution_count": 43,
   "id": "ce483be3-c79c-4785-b19b-37c2518b6383",
   "metadata": {},
   "outputs": [
    {
     "name": "stdout",
     "output_type": "stream",
     "text": [
      "{'a': 97, 'b': 98, 'c': 99, 'A': 65, 'Z': 90}\n"
     ]
    }
   ],
   "source": [
    "#2 Build a dictionary from a list of characters that maps each char to its ASCII value.\n",
    "chars = ['a', 'b', 'c', 'A', 'Z']\n",
    "ascii_dict = {char: ord(char) for char in chars}\n",
    "print(ascii_dict)\n"
   ]
  },
  {
   "cell_type": "code",
   "execution_count": 48,
   "id": "eb589ca1-16f4-496f-83fb-f857e4634f71",
   "metadata": {},
   "outputs": [
    {
     "name": "stdout",
     "output_type": "stream",
     "text": [
      "\n"
     ]
    }
   ],
   "source": [
    "#3 Handle exceptions for a file read operation (file might not exist).\n",
    "try:\n",
    "    with open('filename.txt', 'r') as file:\n",
    "        content = file.read()\n",
    "        print(content)\n",
    "except FileNotFoundError:\n",
    "    print(\"Error: The file does not exist.\")\n",
    "except IOError:\n",
    "    print(\"Error: An I/O error occurred while reading the file.\")\n",
    "\n"
   ]
  },
  {
   "cell_type": "code",
   "execution_count": null,
   "id": "9974fb46-9e53-4c1c-a191-191de0c56314",
   "metadata": {},
   "outputs": [],
   "source": []
  }
 ],
 "metadata": {
  "kernelspec": {
   "display_name": "Python 3 (ipykernel)",
   "language": "python",
   "name": "python3"
  },
  "language_info": {
   "codemirror_mode": {
    "name": "ipython",
    "version": 3
   },
   "file_extension": ".py",
   "mimetype": "text/x-python",
   "name": "python",
   "nbconvert_exporter": "python",
   "pygments_lexer": "ipython3",
   "version": "3.13.3"
  }
 },
 "nbformat": 4,
 "nbformat_minor": 5
}
